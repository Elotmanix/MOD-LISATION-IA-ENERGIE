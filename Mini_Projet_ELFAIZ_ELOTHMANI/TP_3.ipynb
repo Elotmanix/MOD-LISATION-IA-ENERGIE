{
 "cells": [
  {
   "cell_type": "code",
   "execution_count": 1,
   "id": "1550fc0d",
   "metadata": {},
   "outputs": [
    {
     "name": "stdout",
     "output_type": "stream",
     "text": [
      "<class 'pandas.core.frame.DataFrame'>\n",
      "RangeIndex: 9394 entries, 0 to 9393\n",
      "Data columns (total 16 columns):\n",
      " #   Column  Non-Null Count  Dtype  \n",
      "---  ------  --------------  -----  \n",
      " 0   Month   9394 non-null   int64  \n",
      " 1   Day     9394 non-null   int64  \n",
      " 2   Hour    9394 non-null   int64  \n",
      " 3   PAC     9394 non-null   float64\n",
      " 4   Tm      9394 non-null   float64\n",
      " 5   Eff     9394 non-null   float64\n",
      " 6   Tamb    9394 non-null   float64\n",
      " 7   RH      9394 non-null   float64\n",
      " 8   P       9394 non-null   float64\n",
      " 9   WS      9394 non-null   float64\n",
      " 10  WD      9394 non-null   float64\n",
      " 11  TOA     9394 non-null   float64\n",
      " 12  GHI     9394 non-null   float64\n",
      " 13  BHI     9394 non-null   float64\n",
      " 14  DHI     9394 non-null   float64\n",
      " 15  BNI     9394 non-null   float64\n",
      "dtypes: float64(13), int64(3)\n",
      "memory usage: 1.1 MB\n",
      "None\n"
     ]
    }
   ],
   "source": [
    "import pandas as pd\n",
    "D = pd.read_table('DATA.txt', header =0)\n",
    "print(D.info())\n"
   ]
  },
  {
   "cell_type": "code",
   "execution_count": 2,
   "id": "ea8ab58f",
   "metadata": {},
   "outputs": [
    {
     "data": {
      "text/plain": [
       "0       4.0\n",
       "1       4.0\n",
       "2       6.0\n",
       "3       6.0\n",
       "4       5.0\n",
       "       ... \n",
       "9389    1.0\n",
       "9390    1.0\n",
       "9391    1.0\n",
       "9392    2.0\n",
       "9393    5.0\n",
       "Name: PAC, Length: 9394, dtype: float64"
      ]
     },
     "execution_count": 2,
     "metadata": {},
     "output_type": "execute_result"
    }
   ],
   "source": [
    "import numpy as np \n",
    "D['PAC'] = np.where ((D.PAC <= 1000) | (D.PAC==0) ,1, D.PAC)\n",
    "D['PAC'] = np.where ((D.PAC <= 2000) & (D.PAC>1000) ,2, D.PAC)\n",
    "D['PAC'] = np.where ((D.PAC <= 3000) & (D.PAC>2000) ,3, D.PAC)\n",
    "D['PAC'] = np.where ((D.PAC <= 4000) & (D.PAC>3000) ,4, D.PAC)\n",
    "D['PAC'] = np.where ((D.PAC <= 5000) & (D.PAC>4000) ,5, D.PAC)\n",
    "D['PAC'] = np.where ((D.PAC <= 6500) & (D.PAC>5000) ,6, D.PAC)\n",
    "D.PAC\n"
   ]
  },
  {
   "cell_type": "code",
   "execution_count": 3,
   "id": "607b2365",
   "metadata": {},
   "outputs": [
    {
     "name": "stdout",
     "output_type": "stream",
     "text": [
      "1.0    3106\n",
      "6.0    1939\n",
      "5.0    1762\n",
      "2.0    1029\n",
      "4.0     863\n",
      "3.0     695\n",
      "Name: PAC, dtype: int64\n"
     ]
    }
   ],
   "source": [
    "print (pd.value_counts (D.PAC))"
   ]
  },
  {
   "cell_type": "code",
   "execution_count": 60,
   "id": "8734efdd",
   "metadata": {},
   "outputs": [
    {
     "data": {
      "text/plain": [
       "array([[0., 0., 0., 1., 0., 0.],\n",
       "       [0., 0., 0., 1., 0., 0.],\n",
       "       [0., 0., 0., 0., 0., 1.],\n",
       "       ...,\n",
       "       [1., 0., 0., 0., 0., 0.],\n",
       "       [0., 1., 0., 0., 0., 0.],\n",
       "       [0., 0., 0., 0., 1., 0.]], dtype=float32)"
      ]
     },
     "execution_count": 60,
     "metadata": {},
     "output_type": "execute_result"
    }
   ],
   "source": [
    "import tensorflow as tf\n",
    "from keras.models import Sequential\n",
    "from keras.layers import Dense\n",
    "from keras.optimizers import Adam\n",
    "from keras.utils import to_categorical\n",
    "\n",
    "# Supposons que D est votre DataFrame et num_classes est le nombre total de classes\n",
    "y = to_categorical(D.PAC - 1, num_classes=6)\n",
    "\n",
    "\n",
    "# Utilisez tf.compat.v1.get_default_graph() \n",
    "graph = tf.compat.v1.get_default_graph()\n",
    "\n",
    "# Compilation du modèle avec la perte mise à jour\n",
    "model.compile(loss=tf.compat.v1.losses.sparse_softmax_cross_entropy,\n",
    "              optimizer=Adam(learning_rate=0.1),\n",
    "              metrics=['mean_squared_error'])\n",
    "y"
   ]
  },
  {
   "cell_type": "code",
   "execution_count": 22,
   "id": "0ed78713",
   "metadata": {},
   "outputs": [
    {
     "name": "stdout",
     "output_type": "stream",
     "text": [
      "[3106. 1029.  695.  863. 1762. 1939.]\n"
     ]
    }
   ],
   "source": [
    "#verification\n",
    "import numpy as np\n",
    "print(np.sum(y,axis=0))"
   ]
  },
  {
   "cell_type": "code",
   "execution_count": 23,
   "id": "078c20f7",
   "metadata": {},
   "outputs": [],
   "source": [
    "#changer l'ordre des colonnes\n",
    "D = D [['PAC','Hour','Tm','Tamb','TOA','GHI']]\n",
    "#Isoler les descripteurs\n",
    "X = D.iloc [:,1:]"
   ]
  },
  {
   "cell_type": "code",
   "execution_count": 32,
   "id": "e0c008b1",
   "metadata": {},
   "outputs": [],
   "source": [
    "from sklearn.model_selection import train_test_split\n",
    "XTrain,XTest,yTrain,yTest = train_test_split(X, y, test_size=0.2, random_state=42)"
   ]
  },
  {
   "cell_type": "code",
   "execution_count": 33,
   "id": "302bdbd5",
   "metadata": {},
   "outputs": [
    {
     "name": "stdout",
     "output_type": "stream",
     "text": [
      "Hour      11.865469\n",
      "Tm        56.322178\n",
      "Tamb      19.606982\n",
      "TOA     6273.807769\n",
      "GHI     3771.936256\n",
      "dtype: float64\n"
     ]
    }
   ],
   "source": [
    "import numpy \n",
    "from sklearn.preprocessing import MinMaxScaler\n",
    "scaler = MinMaxScaler()\n",
    "XTrainStd = scaler.fit_transform(XTrain)\n",
    "XTestStd = scaler.fit_transform(XTest)\n",
    "print(numpy.mean(XTrain,axis=0))"
   ]
  },
  {
   "cell_type": "code",
   "execution_count": 43,
   "id": "db26b8ed",
   "metadata": {},
   "outputs": [],
   "source": [
    "# modèle de réseau de neurones\n",
    "from keras.models import Sequential\n",
    "from keras.layers import Activation,Dense\n",
    "from sklearn.metrics import r2_score, mean_absolute_percentage_error\n",
    "from tensorflow.keras.optimizers import Adam\n",
    "#instanciation du modèle\n",
    "model = Sequential()\n",
    "#architecture\n",
    "model.add(Dense(15,input_dim=5,activation= 'relu'))\n",
    "model.add(Dense(10,input_dim=5,activation= 'relu'))\n",
    "model.add(Dense(6, activation='softmax'))\n",
    "opt=keras.optimizers.Adam(learning_rate=0.1)\n",
    "#compilation - algorithme d'apprentissage \n",
    "model.compile(loss='categorical_crossentropy',optimizer=opt,metrics=['accuracy'])\n",
    "#apprentissage\n",
    "history = model.fit(XTrain, yTrain, epochs=100, batch_size=10, verbose=0)"
   ]
  },
  {
   "cell_type": "code",
   "execution_count": 44,
   "id": "9ae27ad1",
   "metadata": {},
   "outputs": [
    {
     "name": "stdout",
     "output_type": "stream",
     "text": [
      "Model: \"sequential_11\"\n",
      "_________________________________________________________________\n",
      " Layer (type)                Output Shape              Param #   \n",
      "=================================================================\n",
      " dense_33 (Dense)            (None, 15)                90        \n",
      "                                                                 \n",
      " dense_34 (Dense)            (None, 10)                160       \n",
      "                                                                 \n",
      " dense_35 (Dense)            (None, 6)                 66        \n",
      "                                                                 \n",
      "=================================================================\n",
      "Total params: 316 (1.23 KB)\n",
      "Trainable params: 316 (1.23 KB)\n",
      "Non-trainable params: 0 (0.00 Byte)\n",
      "_________________________________________________________________\n"
     ]
    }
   ],
   "source": [
    "model.summary()"
   ]
  },
  {
   "cell_type": "code",
   "execution_count": 46,
   "id": "272e21ce",
   "metadata": {},
   "outputs": [
    {
     "name": "stdout",
     "output_type": "stream",
     "text": [
      "59/59 [==============================] - 4s 1ms/step - loss: 1.6743 - accuracy: 0.3294\n",
      "[1.674330234527588, 0.32943055033683777]\n",
      "test_lost: 167.4330234527588\n",
      "test_Accuracy: 32.94305503368378\n",
      "Model errore rate : 67.06%\n"
     ]
    }
   ],
   "source": [
    "#Evaluation\n",
    "score=model.evaluate(XTestStd,yTest)\n",
    "print(score)\n",
    "print(\"test_lost:\", 100*score[0])\n",
    "print(\"test_Accuracy:\", 100*score[1])\n",
    "print('Model errore rate : %.2f%%' % (100-score[1]*100 ))"
   ]
  },
  {
   "cell_type": "code",
   "execution_count": 48,
   "id": "032207dc",
   "metadata": {},
   "outputs": [
    {
     "name": "stdout",
     "output_type": "stream",
     "text": [
      "[[0.25       0.59649368 0.49325064 0.58372385 0.39830173]]\n"
     ]
    }
   ],
   "source": [
    "#vérifier la performance du modèle \n",
    "import numpy as np \n",
    "x=XTestStd[1]\n",
    "x = np.reshape (x, (-1,5))\n",
    "print(x)"
   ]
  },
  {
   "cell_type": "code",
   "execution_count": 49,
   "id": "a56ebbc2",
   "metadata": {},
   "outputs": [
    {
     "name": "stdout",
     "output_type": "stream",
     "text": [
      "[0. 1. 0. 0. 0. 0.]\n"
     ]
    }
   ],
   "source": [
    "print(yTest[1])"
   ]
  },
  {
   "cell_type": "code",
   "execution_count": 58,
   "id": "9fd60d8c",
   "metadata": {},
   "outputs": [],
   "source": [
    "def Analysis(etat):\n",
    "    objects = ('Class1' , 'Class2', 'Class3','Class4','Class5','Class6')\n",
    "    y_pos = np.arange(len(objects))\n",
    "    \n",
    "    plt.bar(y_pos,etat,align='center',alpha=0.5)\n",
    "    plt.xticks(y_pos,objects,rotation=45)\n",
    "    plt.ylabel('Pourcentage')\n",
    "    plt.title('Classe')\n",
    "    \n",
    "    plt.show()"
   ]
  },
  {
   "cell_type": "code",
   "execution_count": 59,
   "id": "11af14df",
   "metadata": {
    "scrolled": true
   },
   "outputs": [
    {
     "name": "stdout",
     "output_type": "stream",
     "text": [
      "1/1 [==============================] - 0s 71ms/step\n"
     ]
    },
    {
     "data": {
      "image/png": "[encoded data removed]",
      "text/plain": [
       "<Figure size 640x480 with 1 Axes>"
      ]
     },
     "metadata": {},
     "output_type": "display_data"
    },
    {
     "data": {
      "text/plain": [
       "<function matplotlib.pyplot.show(close=None, block=None)>"
      ]
     },
     "execution_count": 59,
     "metadata": {},
     "output_type": "execute_result"
    }
   ],
   "source": [
    "import matplotlib.pyplot as plt \n",
    "Custom = model.predict (x)\n",
    "Analysis(Custom[0])\n",
    "plt.show"
   ]
  }
 ],
 "metadata": {
  "kernelspec": {
   "display_name": "Python 3 (ipykernel)",
   "language": "python",
   "name": "python3"
  },
  "language_info": {
   "codemirror_mode": {
    "name": "ipython",
    "version": 3
   },
   "file_extension": ".py",
   "mimetype": "text/x-python",
   "name": "python",
   "nbconvert_exporter": "python",
   "pygments_lexer": "ipython3",
   "version": "3.11.4"
  }
 },
 "nbformat": 4,
 "nbformat_minor": 5
}
