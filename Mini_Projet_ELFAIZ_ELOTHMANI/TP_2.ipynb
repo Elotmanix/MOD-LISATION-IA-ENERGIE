{
 "cells": [
  {
   "cell_type": "code",
   "execution_count": 1,
   "id": "12a09bef",
   "metadata": {},
   "outputs": [
    {
     "name": "stdout",
     "output_type": "stream",
     "text": [
      "<class 'pandas.core.frame.DataFrame'>\n",
      "RangeIndex: 9394 entries, 0 to 9393\n",
      "Data columns (total 16 columns):\n",
      " #   Column  Non-Null Count  Dtype  \n",
      "---  ------  --------------  -----  \n",
      " 0   Month   9394 non-null   int64  \n",
      " 1   Day     9394 non-null   int64  \n",
      " 2   Hour    9394 non-null   int64  \n",
      " 3   PAC     9394 non-null   float64\n",
      " 4   Tm      9394 non-null   float64\n",
      " 5   Eff     9394 non-null   float64\n",
      " 6   Tamb    9394 non-null   float64\n",
      " 7   RH      9394 non-null   float64\n",
      " 8   P       9394 non-null   float64\n",
      " 9   WS      9394 non-null   float64\n",
      " 10  WD      9394 non-null   float64\n",
      " 11  TOA     9394 non-null   float64\n",
      " 12  GHI     9394 non-null   float64\n",
      " 13  BHI     9394 non-null   float64\n",
      " 14  DHI     9394 non-null   float64\n",
      " 15  BNI     9394 non-null   float64\n",
      "dtypes: float64(13), int64(3)\n",
      "memory usage: 1.1 MB\n",
      "None\n"
     ]
    }
   ],
   "source": [
    "import pandas\n",
    "D=pandas.read_table('DATA.txt',header=0)\n",
    "print(D.info())"
   ]
  },
  {
   "cell_type": "code",
   "execution_count": 2,
   "id": "dd488d09",
   "metadata": {},
   "outputs": [
    {
     "data": {
      "text/html": [
       "<div>\n",
       "<style scoped>\n",
       "    .dataframe tbody tr th:only-of-type {\n",
       "        vertical-align: middle;\n",
       "    }\n",
       "\n",
       "    .dataframe tbody tr th {\n",
       "        vertical-align: top;\n",
       "    }\n",
       "\n",
       "    .dataframe thead th {\n",
       "        text-align: right;\n",
       "    }\n",
       "</style>\n",
       "<table border=\"1\" class=\"dataframe\">\n",
       "  <thead>\n",
       "    <tr style=\"text-align: right;\">\n",
       "      <th></th>\n",
       "      <th>Month</th>\n",
       "      <th>Day</th>\n",
       "      <th>Hour</th>\n",
       "      <th>Tm</th>\n",
       "      <th>Eff</th>\n",
       "      <th>Tamb</th>\n",
       "      <th>RH</th>\n",
       "      <th>P</th>\n",
       "      <th>WS</th>\n",
       "      <th>WD</th>\n",
       "      <th>TOA</th>\n",
       "      <th>GHI</th>\n",
       "      <th>BHI</th>\n",
       "      <th>DHI</th>\n",
       "      <th>BNI</th>\n",
       "    </tr>\n",
       "  </thead>\n",
       "  <tbody>\n",
       "    <tr>\n",
       "      <th>0</th>\n",
       "      <td>1</td>\n",
       "      <td>1</td>\n",
       "      <td>10</td>\n",
       "      <td>42.347879</td>\n",
       "      <td>98.894697</td>\n",
       "      <td>14.50</td>\n",
       "      <td>58.81</td>\n",
       "      <td>1017.53</td>\n",
       "      <td>3.15</td>\n",
       "      <td>203.14</td>\n",
       "      <td>6181.305</td>\n",
       "      <td>4278.672</td>\n",
       "      <td>3391.175</td>\n",
       "      <td>887.496</td>\n",
       "      <td>7709.750</td>\n",
       "    </tr>\n",
       "    <tr>\n",
       "      <th>1</th>\n",
       "      <td>1</td>\n",
       "      <td>1</td>\n",
       "      <td>11</td>\n",
       "      <td>55.044545</td>\n",
       "      <td>98.122879</td>\n",
       "      <td>15.98</td>\n",
       "      <td>54.94</td>\n",
       "      <td>1017.73</td>\n",
       "      <td>2.11</td>\n",
       "      <td>226.10</td>\n",
       "      <td>7261.285</td>\n",
       "      <td>5195.536</td>\n",
       "      <td>4223.724</td>\n",
       "      <td>971.812</td>\n",
       "      <td>8186.512</td>\n",
       "    </tr>\n",
       "    <tr>\n",
       "      <th>2</th>\n",
       "      <td>1</td>\n",
       "      <td>1</td>\n",
       "      <td>12</td>\n",
       "      <td>67.297576</td>\n",
       "      <td>98.311212</td>\n",
       "      <td>17.46</td>\n",
       "      <td>50.24</td>\n",
       "      <td>1017.30</td>\n",
       "      <td>1.52</td>\n",
       "      <td>263.35</td>\n",
       "      <td>7637.228</td>\n",
       "      <td>5525.204</td>\n",
       "      <td>4534.102</td>\n",
       "      <td>991.102</td>\n",
       "      <td>8357.933</td>\n",
       "    </tr>\n",
       "    <tr>\n",
       "      <th>3</th>\n",
       "      <td>1</td>\n",
       "      <td>1</td>\n",
       "      <td>13</td>\n",
       "      <td>77.016667</td>\n",
       "      <td>98.223939</td>\n",
       "      <td>18.24</td>\n",
       "      <td>48.56</td>\n",
       "      <td>1016.64</td>\n",
       "      <td>1.66</td>\n",
       "      <td>292.72</td>\n",
       "      <td>7283.514</td>\n",
       "      <td>5236.036</td>\n",
       "      <td>4280.465</td>\n",
       "      <td>955.572</td>\n",
       "      <td>8271.674</td>\n",
       "    </tr>\n",
       "    <tr>\n",
       "      <th>4</th>\n",
       "      <td>1</td>\n",
       "      <td>1</td>\n",
       "      <td>14</td>\n",
       "      <td>80.223030</td>\n",
       "      <td>98.381667</td>\n",
       "      <td>18.45</td>\n",
       "      <td>48.91</td>\n",
       "      <td>1016.31</td>\n",
       "      <td>2.01</td>\n",
       "      <td>311.29</td>\n",
       "      <td>6224.230</td>\n",
       "      <td>4346.761</td>\n",
       "      <td>3473.797</td>\n",
       "      <td>872.963</td>\n",
       "      <td>7844.699</td>\n",
       "    </tr>\n",
       "    <tr>\n",
       "      <th>...</th>\n",
       "      <td>...</td>\n",
       "      <td>...</td>\n",
       "      <td>...</td>\n",
       "      <td>...</td>\n",
       "      <td>...</td>\n",
       "      <td>...</td>\n",
       "      <td>...</td>\n",
       "      <td>...</td>\n",
       "      <td>...</td>\n",
       "      <td>...</td>\n",
       "      <td>...</td>\n",
       "      <td>...</td>\n",
       "      <td>...</td>\n",
       "      <td>...</td>\n",
       "      <td>...</td>\n",
       "    </tr>\n",
       "    <tr>\n",
       "      <th>9389</th>\n",
       "      <td>9</td>\n",
       "      <td>9</td>\n",
       "      <td>5</td>\n",
       "      <td>0.000000</td>\n",
       "      <td>0.000000</td>\n",
       "      <td>18.98</td>\n",
       "      <td>86.72</td>\n",
       "      <td>1004.50</td>\n",
       "      <td>2.88</td>\n",
       "      <td>23.60</td>\n",
       "      <td>0.000</td>\n",
       "      <td>0.000</td>\n",
       "      <td>0.000</td>\n",
       "      <td>0.000</td>\n",
       "      <td>0.000</td>\n",
       "    </tr>\n",
       "    <tr>\n",
       "      <th>9390</th>\n",
       "      <td>9</td>\n",
       "      <td>9</td>\n",
       "      <td>6</td>\n",
       "      <td>0.000000</td>\n",
       "      <td>0.000000</td>\n",
       "      <td>18.86</td>\n",
       "      <td>87.56</td>\n",
       "      <td>1004.36</td>\n",
       "      <td>2.52</td>\n",
       "      <td>28.24</td>\n",
       "      <td>988.004</td>\n",
       "      <td>381.361</td>\n",
       "      <td>166.848</td>\n",
       "      <td>214.513</td>\n",
       "      <td>1231.764</td>\n",
       "    </tr>\n",
       "    <tr>\n",
       "      <th>9391</th>\n",
       "      <td>9</td>\n",
       "      <td>9</td>\n",
       "      <td>7</td>\n",
       "      <td>33.500000</td>\n",
       "      <td>67.366667</td>\n",
       "      <td>19.18</td>\n",
       "      <td>85.72</td>\n",
       "      <td>1004.57</td>\n",
       "      <td>2.09</td>\n",
       "      <td>29.66</td>\n",
       "      <td>3795.045</td>\n",
       "      <td>2197.232</td>\n",
       "      <td>1491.042</td>\n",
       "      <td>706.190</td>\n",
       "      <td>5127.925</td>\n",
       "    </tr>\n",
       "    <tr>\n",
       "      <th>9392</th>\n",
       "      <td>9</td>\n",
       "      <td>9</td>\n",
       "      <td>8</td>\n",
       "      <td>48.516667</td>\n",
       "      <td>99.066515</td>\n",
       "      <td>20.69</td>\n",
       "      <td>77.04</td>\n",
       "      <td>1004.94</td>\n",
       "      <td>2.18</td>\n",
       "      <td>23.28</td>\n",
       "      <td>6434.609</td>\n",
       "      <td>4266.431</td>\n",
       "      <td>3298.625</td>\n",
       "      <td>967.806</td>\n",
       "      <td>6848.822</td>\n",
       "    </tr>\n",
       "    <tr>\n",
       "      <th>9393</th>\n",
       "      <td>9</td>\n",
       "      <td>9</td>\n",
       "      <td>9</td>\n",
       "      <td>63.293627</td>\n",
       "      <td>99.042033</td>\n",
       "      <td>22.01</td>\n",
       "      <td>69.24</td>\n",
       "      <td>1005.32</td>\n",
       "      <td>2.27</td>\n",
       "      <td>7.71</td>\n",
       "      <td>8682.838</td>\n",
       "      <td>6095.544</td>\n",
       "      <td>4930.490</td>\n",
       "      <td>1165.055</td>\n",
       "      <td>7617.695</td>\n",
       "    </tr>\n",
       "  </tbody>\n",
       "</table>\n",
       "<p>9394 rows × 15 columns</p>\n",
       "</div>"
      ],
      "text/plain": [
       "      Month  Day  Hour         Tm        Eff   Tamb     RH        P    WS  \\\n",
       "0         1    1    10  42.347879  98.894697  14.50  58.81  1017.53  3.15   \n",
       "1         1    1    11  55.044545  98.122879  15.98  54.94  1017.73  2.11   \n",
       "2         1    1    12  67.297576  98.311212  17.46  50.24  1017.30  1.52   \n",
       "3         1    1    13  77.016667  98.223939  18.24  48.56  1016.64  1.66   \n",
       "4         1    1    14  80.223030  98.381667  18.45  48.91  1016.31  2.01   \n",
       "...     ...  ...   ...        ...        ...    ...    ...      ...   ...   \n",
       "9389      9    9     5   0.000000   0.000000  18.98  86.72  1004.50  2.88   \n",
       "9390      9    9     6   0.000000   0.000000  18.86  87.56  1004.36  2.52   \n",
       "9391      9    9     7  33.500000  67.366667  19.18  85.72  1004.57  2.09   \n",
       "9392      9    9     8  48.516667  99.066515  20.69  77.04  1004.94  2.18   \n",
       "9393      9    9     9  63.293627  99.042033  22.01  69.24  1005.32  2.27   \n",
       "\n",
       "          WD       TOA       GHI       BHI       DHI       BNI  \n",
       "0     203.14  6181.305  4278.672  3391.175   887.496  7709.750  \n",
       "1     226.10  7261.285  5195.536  4223.724   971.812  8186.512  \n",
       "2     263.35  7637.228  5525.204  4534.102   991.102  8357.933  \n",
       "3     292.72  7283.514  5236.036  4280.465   955.572  8271.674  \n",
       "4     311.29  6224.230  4346.761  3473.797   872.963  7844.699  \n",
       "...      ...       ...       ...       ...       ...       ...  \n",
       "9389   23.60     0.000     0.000     0.000     0.000     0.000  \n",
       "9390   28.24   988.004   381.361   166.848   214.513  1231.764  \n",
       "9391   29.66  3795.045  2197.232  1491.042   706.190  5127.925  \n",
       "9392   23.28  6434.609  4266.431  3298.625   967.806  6848.822  \n",
       "9393    7.71  8682.838  6095.544  4930.490  1165.055  7617.695  \n",
       "\n",
       "[9394 rows x 15 columns]"
      ]
     },
     "execution_count": 2,
     "metadata": {},
     "output_type": "execute_result"
    }
   ],
   "source": [
    "Y=D.PAC\n",
    "X=D.drop('PAC',axis=1)\n",
    "X"
   ]
  },
  {
   "cell_type": "code",
   "execution_count": 3,
   "id": "0c8bad9d",
   "metadata": {},
   "outputs": [
    {
     "name": "stdout",
     "output_type": "stream",
     "text": [
      "(9394, 16)\n"
     ]
    }
   ],
   "source": [
    "print(D.shape)"
   ]
  },
  {
   "cell_type": "code",
   "execution_count": 4,
   "id": "5657b914",
   "metadata": {},
   "outputs": [
    {
     "name": "stdout",
     "output_type": "stream",
     "text": [
      "    Month  Day  Hour          PAC         Tm        Eff   Tamb     RH  \\\n",
      "0       1    1    10  3802.507576  42.347879  98.894697  14.50  58.81   \n",
      "1       1    1    11  3059.995455  55.044545  98.122879  15.98  54.94   \n",
      "2       1    1    12  5104.446970  67.297576  98.311212  17.46  50.24   \n",
      "3       1    1    13  5095.312121  77.016667  98.223939  18.24  48.56   \n",
      "4       1    1    14  4968.204545  80.223030  98.381667  18.45  48.91   \n",
      "5       1    1    15  4929.150000  79.461061  97.204848  18.29  50.74   \n",
      "6       1    1    16  3311.653030  77.760909  99.143030  17.66  55.33   \n",
      "7       1    1    17  1335.992424  64.032386  99.835985  16.13  69.34   \n",
      "8       1    1     7     0.000000   0.000000   0.000000  11.28  67.61   \n",
      "9       1    1     8     5.796970   5.945000   8.579848  10.98  69.49   \n",
      "10      1    1     9   315.200303  29.393475  96.588316  12.37  68.68   \n",
      "11      1   10    10  3747.993930  44.321244  98.869954  13.39  66.84   \n",
      "12      1   10    11  3527.789394  57.000000  98.209091  14.59  65.79   \n",
      "13      1   10    12  4871.376328  65.879666  98.462974  15.39  61.84   \n",
      "14      1   10    13  4217.065350  69.397568  98.586474  15.91  58.94   \n",
      "15      1   10    14  5130.584219  75.200455  98.309105  16.17  57.48   \n",
      "16      1   10    15  4857.528788  77.883333  98.469394  16.12  57.58   \n",
      "17      1   10    16  4318.717754  76.466616  98.590592  15.82  59.38   \n",
      "18      1   10    17  2506.684298  71.418182  98.985124  14.84  68.57   \n",
      "19      1   10     7     0.000000   0.000000   0.000000   9.77  80.72   \n",
      "\n",
      "          P    WS      WD       TOA       GHI          BHI       DHI       BNI  \n",
      "0   1017.53  3.15  203.14  6181.305  4278.672  3391.175000   887.496  7709.750  \n",
      "1   1017.73  2.11  226.10  7261.285  5195.536  4223.724000   971.812  8186.512  \n",
      "2   1017.30  1.52  263.35  7637.228  5525.204  4534.102000   991.102  8357.933  \n",
      "3   1016.64  1.66  292.72  7283.514  5236.036  4280.465000   955.572  8271.674  \n",
      "4   1016.31  2.01  311.29  6224.230  4346.761  3473.797000   872.963  7844.699  \n",
      "5   1016.44  2.30  322.42  4531.538  2919.941  2171.431000   748.510  6682.750  \n",
      "6   1016.61  2.28  329.41  2320.755  1134.930   445.232000   689.698  2129.349  \n",
      "7   1016.92  1.90  335.72   221.263    73.446    13.684000    59.762   262.061  \n",
      "8   1015.72  2.53  185.89   189.436    40.977     0.000162    39.355    24.480  \n",
      "9   1016.22  2.84  192.82  2246.515  1188.808   720.288000   468.520  4137.419  \n",
      "10  1016.85  2.82  197.56  4470.873  2851.603  2107.464000   744.139  6575.438  \n",
      "11  1006.26  3.91  220.16  6286.357  4160.305  3013.959000  1146.346  6737.501  \n",
      "12  1006.43  3.16  231.27  7419.979  5052.516  3691.727000  1360.789  7005.580  \n",
      "13  1006.05  2.76  240.38  7847.766  4771.188  2802.478000  1968.710  5025.148  \n",
      "14  1005.26  2.55  252.48  7540.566  5211.276  3911.583000  1299.692  7300.652  \n",
      "15  1004.68  2.54  265.20  6519.304  4389.805  3240.294000  1149.512  6987.380  \n",
      "16  1004.39  2.64  274.84  4853.563  3040.077  2116.619000   923.458  6092.720  \n",
      "17  1004.33  2.74  283.01  2656.839  1400.799   803.214000   597.585  4023.958  \n",
      "18  1004.51  2.41  294.08   379.934   137.151    37.974000    99.177   528.025  \n",
      "19  1005.07  3.43  221.75   181.935    57.852    12.351000    45.501   238.628  \n"
     ]
    }
   ],
   "source": [
    "print (D.head(20))"
   ]
  },
  {
   "cell_type": "code",
   "execution_count": 5,
   "id": "52f2337e",
   "metadata": {},
   "outputs": [
    {
     "name": "stdout",
     "output_type": "stream",
     "text": [
      "             Month          Day         Hour          PAC           Tm  \\\n",
      "count  9394.000000  9394.000000  9394.000000  9394.000000  9394.000000   \n",
      "mean      6.385246    15.540026    11.844049  2728.996212    56.293230   \n",
      "std       3.286536     8.749525     3.974937  2115.746883    25.588611   \n",
      "min       1.000000     1.000000     4.000000     0.000000     0.000000   \n",
      "25%       4.000000     8.000000     8.000000   442.413345    44.344811   \n",
      "50%       6.000000    15.000000    12.000000  2791.191526    62.983697   \n",
      "75%       9.000000    23.000000    15.000000  4861.013259    77.606250   \n",
      "max      12.000000    31.000000    20.000000  6124.527273    87.066667   \n",
      "\n",
      "               Eff         Tamb           RH            P           WS  \\\n",
      "count  9394.000000  9394.000000  9394.000000  9394.000000  9394.000000   \n",
      "mean     84.898254    19.577275    67.353288  1004.447211     3.916397   \n",
      "std      32.470833     4.828761    14.330914     4.877227     2.181048   \n",
      "min       0.000000     7.160000    20.430000   983.420000     0.030000   \n",
      "25%      98.240121    15.940000    57.170000  1001.430000     2.260000   \n",
      "50%      98.615781    19.270000    66.320000  1003.970000     3.740000   \n",
      "75%      99.475998    23.140000    78.160000  1006.970000     5.170000   \n",
      "max     100.000000    37.800000   102.920000  1022.060000    17.570000   \n",
      "\n",
      "                WD           TOA           GHI          BHI         DHI  \\\n",
      "count  9394.000000   9394.000000   9394.000000  9394.000000  9394.00000   \n",
      "mean    228.037244   6264.484603   3773.160933  2582.836476  1191.19292   \n",
      "std     116.200159   4035.607486   3006.480785  2559.752251   856.35780   \n",
      "min       0.010000      0.000000      0.000000     0.000000     0.00000   \n",
      "25%     141.555000   2622.576000    969.443750   161.062750   581.24750   \n",
      "50%     271.980000   6712.258000   3354.455000  1809.398500  1120.70050   \n",
      "75%     322.835000   9706.918750   6209.692000  4556.224500  1622.59000   \n",
      "max     359.970000  12939.077000  10476.982000  9027.593000  4124.90900   \n",
      "\n",
      "               BNI  \n",
      "count  9394.000000  \n",
      "mean   4121.850071  \n",
      "std    3184.695110  \n",
      "min       0.000000  \n",
      "25%     599.089500  \n",
      "50%    4315.431500  \n",
      "75%    7176.257000  \n",
      "max    9633.553000  \n"
     ]
    }
   ],
   "source": [
    "print(D.describe())"
   ]
  },
  {
   "cell_type": "code",
   "execution_count": 6,
   "id": "269c8dcd",
   "metadata": {},
   "outputs": [
    {
     "data": {
      "image/png": "[encoded data removed]",
      "text/plain": [
       "<Figure size 640x480 with 36 Axes>"
      ]
     },
     "metadata": {},
     "output_type": "display_data"
    },
    {
     "data": {
      "text/plain": [
       "<Figure size 600x400 with 0 Axes>"
      ]
     },
     "metadata": {},
     "output_type": "display_data"
    }
   ],
   "source": [
    "from matplotlib import pyplot as plt\n",
    "D.plot(kind='box',subplots=True, layout=(6,6),sharex=False,sharey=False)\n",
    "plt.figure(figsize=(6,4))\n",
    "plt.show()"
   ]
  },
  {
   "cell_type": "code",
   "execution_count": 7,
   "id": "6882ea2f",
   "metadata": {},
   "outputs": [],
   "source": [
    "import sklearn\n",
    "from sklearn import model_selection\n",
    "XTrain,XTest,yTrain,yTest=model_selection.train_test_split(X,Y,test_size=2348,random_state=100)"
   ]
  },
  {
   "cell_type": "code",
   "execution_count": 8,
   "id": "b8a0c530",
   "metadata": {},
   "outputs": [
    {
     "name": "stdout",
     "output_type": "stream",
     "text": [
      "Month       6.351263\n",
      "Day        15.519018\n",
      "Hour       11.884048\n",
      "Tm         56.435012\n",
      "Eff        85.111175\n",
      "Tamb       19.552282\n",
      "RH         67.323443\n",
      "P        1004.418618\n",
      "WS          3.924581\n",
      "WD        228.997543\n",
      "TOA      6283.139553\n",
      "GHI      3789.532906\n",
      "BHI      2595.584642\n",
      "DHI      1194.763148\n",
      "BNI      4145.743985\n",
      "dtype: float64\n"
     ]
    }
   ],
   "source": [
    "import numpy \n",
    "from sklearn.preprocessing import MinMaxScaler\n",
    "scaler = MinMaxScaler()\n",
    "XTrainStd = scaler.fit_transform(XTrain)\n",
    "XTestStd = scaler.fit_transform(XTest)\n",
    "print(numpy.mean(XTrain,axis=0))"
   ]
  },
  {
   "cell_type": "code",
   "execution_count": 9,
   "id": "504551dd",
   "metadata": {},
   "outputs": [
    {
     "name": "stdout",
     "output_type": "stream",
     "text": [
      "[0.48647847 0.48396726 0.49275298 0.64818161 0.85111175 0.40444785\n",
      " 0.56847428 0.54344249 0.22788656 0.63614719 0.48559411 0.36170081\n",
      " 0.2875168  0.28964594 0.43384047]\n"
     ]
    }
   ],
   "source": [
    "print(numpy.mean(XTrainStd,axis=0))"
   ]
  },
  {
   "cell_type": "code",
   "execution_count": 10,
   "id": "06646c9e",
   "metadata": {},
   "outputs": [
    {
     "name": "stdout",
     "output_type": "stream",
     "text": [
      "0.9413853212673228\n",
      "-10.67754364782113\n"
     ]
    }
   ],
   "source": [
    "from sklearn.linear_model import LinearRegression\n",
    "from sklearn.metrics import r2_score\n",
    "import sklearn.metrics as metrics\n",
    "from sklearn.preprocessing import PolynomialFeatures\n",
    "polynomial_features = PolynomialFeatures(degree=2)\n",
    "X_train_poly = polynomial_features.fit_transform(XTrainStd)\n",
    "X_test_poly = polynomial_features.fit_transform(XTestStd)\n",
    "model = LinearRegression()\n",
    "model.fit(X_train_poly,yTrain)\n",
    "rsq=metrics.r2_score(yTrain,model.predict(X_train_poly))\n",
    "print(rsq)\n",
    "rsq=metrics.r2_score(yTest,model.predict(X_test_poly))\n",
    "print(rsq)"
   ]
  },
  {
   "cell_type": "code",
   "execution_count": 11,
   "id": "a039fa15",
   "metadata": {},
   "outputs": [
    {
     "name": "stdout",
     "output_type": "stream",
     "text": [
      "0.964026621665625\n",
      "-18462.9934555529\n"
     ]
    }
   ],
   "source": [
    "from sklearn.linear_model import LinearRegression\n",
    "from sklearn.metrics import r2_score\n",
    "from sklearn.preprocessing import PolynomialFeatures\n",
    "polynomial_features = PolynomialFeatures(degree=3)\n",
    "X_train_poly = polynomial_features.fit_transform(XTrainStd)\n",
    "X_test_poly = polynomial_features.fit_transform(XTestStd)\n",
    "model = LinearRegression()\n",
    "model.fit(X_train_poly,yTrain)\n",
    "rsq=metrics.r2_score(yTrain,model.predict(X_train_poly))\n",
    "print(rsq)\n",
    "rsq=metrics.r2_score(yTest,model.predict(X_test_poly))\n",
    "print(rsq)"
   ]
  },
  {
   "cell_type": "code",
   "execution_count": 12,
   "id": "9cb6ff49",
   "metadata": {},
   "outputs": [
    {
     "name": "stdout",
     "output_type": "stream",
     "text": [
      "0.990922575740136\n",
      "-3155584955734.6763\n"
     ]
    }
   ],
   "source": [
    "from sklearn.linear_model import LinearRegression\n",
    "from sklearn.metrics import r2_score\n",
    "from sklearn.preprocessing import PolynomialFeatures\n",
    "polynomial_features = PolynomialFeatures(degree=4)\n",
    "X_train_poly = polynomial_features.fit_transform(XTrainStd)\n",
    "X_test_poly = polynomial_features.fit_transform(XTestStd)\n",
    "model = LinearRegression()\n",
    "model.fit(X_train_poly,yTrain)\n",
    "rsq=metrics.r2_score(yTrain,model.predict(X_train_poly))\n",
    "print(rsq)\n",
    "rsq=metrics.r2_score(yTest,model.predict(X_test_poly))\n",
    "print(rsq)"
   ]
  },
  {
   "cell_type": "code",
   "execution_count": 13,
   "id": "69b1620f",
   "metadata": {},
   "outputs": [
    {
     "data": {
      "text/html": [
       "<style>#sk-container-id-1 {color: black;}#sk-container-id-1 pre{padding: 0;}#sk-container-id-1 div.sk-toggleable {background-color: white;}#sk-container-id-1 label.sk-toggleable__label {cursor: pointer;display: block;width: 100%;margin-bottom: 0;padding: 0.3em;box-sizing: border-box;text-align: center;}#sk-container-id-1 label.sk-toggleable__label-arrow:before {content: \"▸\";float: left;margin-right: 0.25em;color: #696969;}#sk-container-id-1 label.sk-toggleable__label-arrow:hover:before {color: black;}#sk-container-id-1 div.sk-estimator:hover label.sk-toggleable__label-arrow:before {color: black;}#sk-container-id-1 div.sk-toggleable__content {max-height: 0;max-width: 0;overflow: hidden;text-align: left;background-color: #f0f8ff;}#sk-container-id-1 div.sk-toggleable__content pre {margin: 0.2em;color: black;border-radius: 0.25em;background-color: #f0f8ff;}#sk-container-id-1 input.sk-toggleable__control:checked~div.sk-toggleable__content {max-height: 200px;max-width: 100%;overflow: auto;}#sk-container-id-1 input.sk-toggleable__control:checked~label.sk-toggleable__label-arrow:before {content: \"▾\";}#sk-container-id-1 div.sk-estimator input.sk-toggleable__control:checked~label.sk-toggleable__label {background-color: #d4ebff;}#sk-container-id-1 div.sk-label input.sk-toggleable__control:checked~label.sk-toggleable__label {background-color: #d4ebff;}#sk-container-id-1 input.sk-hidden--visually {border: 0;clip: rect(1px 1px 1px 1px);clip: rect(1px, 1px, 1px, 1px);height: 1px;margin: -1px;overflow: hidden;padding: 0;position: absolute;width: 1px;}#sk-container-id-1 div.sk-estimator {font-family: monospace;background-color: #f0f8ff;border: 1px dotted black;border-radius: 0.25em;box-sizing: border-box;margin-bottom: 0.5em;}#sk-container-id-1 div.sk-estimator:hover {background-color: #d4ebff;}#sk-container-id-1 div.sk-parallel-item::after {content: \"\";width: 100%;border-bottom: 1px solid gray;flex-grow: 1;}#sk-container-id-1 div.sk-label:hover label.sk-toggleable__label {background-color: #d4ebff;}#sk-container-id-1 div.sk-serial::before {content: \"\";position: absolute;border-left: 1px solid gray;box-sizing: border-box;top: 0;bottom: 0;left: 50%;z-index: 0;}#sk-container-id-1 div.sk-serial {display: flex;flex-direction: column;align-items: center;background-color: white;padding-right: 0.2em;padding-left: 0.2em;position: relative;}#sk-container-id-1 div.sk-item {position: relative;z-index: 1;}#sk-container-id-1 div.sk-parallel {display: flex;align-items: stretch;justify-content: center;background-color: white;position: relative;}#sk-container-id-1 div.sk-item::before, #sk-container-id-1 div.sk-parallel-item::before {content: \"\";position: absolute;border-left: 1px solid gray;box-sizing: border-box;top: 0;bottom: 0;left: 50%;z-index: -1;}#sk-container-id-1 div.sk-parallel-item {display: flex;flex-direction: column;z-index: 1;position: relative;background-color: white;}#sk-container-id-1 div.sk-parallel-item:first-child::after {align-self: flex-end;width: 50%;}#sk-container-id-1 div.sk-parallel-item:last-child::after {align-self: flex-start;width: 50%;}#sk-container-id-1 div.sk-parallel-item:only-child::after {width: 0;}#sk-container-id-1 div.sk-dashed-wrapped {border: 1px dashed gray;margin: 0 0.4em 0.5em 0.4em;box-sizing: border-box;padding-bottom: 0.4em;background-color: white;}#sk-container-id-1 div.sk-label label {font-family: monospace;font-weight: bold;display: inline-block;line-height: 1.2em;}#sk-container-id-1 div.sk-label-container {text-align: center;}#sk-container-id-1 div.sk-container {/* jupyter's `normalize.less` sets `[hidden] { display: none; }` but bootstrap.min.css set `[hidden] { display: none !important; }` so we also need the `!important` here to be able to override the default hidden behavior on the sphinx rendered scikit-learn.org. See: https://github.com/scikit-learn/scikit-learn/issues/21755 */display: inline-block !important;position: relative;}#sk-container-id-1 div.sk-text-repr-fallback {display: none;}</style><div id=\"sk-container-id-1\" class=\"sk-top-container\"><div class=\"sk-text-repr-fallback\"><pre>SVR(kernel=&#x27;poly&#x27;)</pre><b>In a Jupyter environment, please rerun this cell to show the HTML representation or trust the notebook. <br />On GitHub, the HTML representation is unable to render, please try loading this page with nbviewer.org.</b></div><div class=\"sk-container\" hidden><div class=\"sk-item\"><div class=\"sk-estimator sk-toggleable\"><input class=\"sk-toggleable__control sk-hidden--visually\" id=\"sk-estimator-id-1\" type=\"checkbox\" checked><label for=\"sk-estimator-id-1\" class=\"sk-toggleable__label sk-toggleable__label-arrow\">SVR</label><div class=\"sk-toggleable__content\"><pre>SVR(kernel=&#x27;poly&#x27;)</pre></div></div></div></div></div>"
      ],
      "text/plain": [
       "SVR(kernel='poly')"
      ]
     },
     "execution_count": 13,
     "metadata": {},
     "output_type": "execute_result"
    }
   ],
   "source": [
    "from sklearn.svm import SVR\n",
    "model = SVR(kernel='poly')\n",
    "from sklearn import model_selection\n",
    "XTrain,XTest,yTrain,yTest=model_selection.train_test_split(X,Y,test_size=2348,random_state=100)\n",
    "model.fit(XTrain, yTrain)"
   ]
  },
  {
   "cell_type": "code",
   "execution_count": 14,
   "id": "0bca3626",
   "metadata": {},
   "outputs": [
    {
     "name": "stdout",
     "output_type": "stream",
     "text": [
      "Erreur Quadratique Moyenne sur l'ensemble d'entraînement : 1906329.0422719691\n",
      "Erreur Quadratique Moyenne sur l'ensemble de test : 1827277.0498376442\n"
     ]
    }
   ],
   "source": [
    "from sklearn.metrics import mean_squared_error\n",
    "\n",
    "# Faire des prédictions sur l'ensemble d'entraînement\n",
    "predictions_train = model.predict(XTrain)\n",
    "\n",
    "# Calculer l'erreur quadratique moyenne pour l'ensemble d'entraînement\n",
    "mse_train = mean_squared_error(yTrain, predictions_train)\n",
    "print(f'Erreur Quadratique Moyenne sur l\\'ensemble d\\'entraînement : {mse_train}')\n",
    "\n",
    "# Faire des prédictions sur l'ensemble de test\n",
    "predictions_test = model.predict(XTest)\n",
    "\n",
    "# Calculer l'erreur quadratique moyenne pour l'ensemble de test\n",
    "mse_test = mean_squared_error(yTest, predictions_test)\n",
    "print(f'Erreur Quadratique Moyenne sur l\\'ensemble de test : {mse_test}')"
   ]
  },
  {
   "cell_type": "code",
   "execution_count": 15,
   "id": "7685d5be",
   "metadata": {},
   "outputs": [
    {
     "data": {
      "text/html": [
       "<style>#sk-container-id-2 {color: black;}#sk-container-id-2 pre{padding: 0;}#sk-container-id-2 div.sk-toggleable {background-color: white;}#sk-container-id-2 label.sk-toggleable__label {cursor: pointer;display: block;width: 100%;margin-bottom: 0;padding: 0.3em;box-sizing: border-box;text-align: center;}#sk-container-id-2 label.sk-toggleable__label-arrow:before {content: \"▸\";float: left;margin-right: 0.25em;color: #696969;}#sk-container-id-2 label.sk-toggleable__label-arrow:hover:before {color: black;}#sk-container-id-2 div.sk-estimator:hover label.sk-toggleable__label-arrow:before {color: black;}#sk-container-id-2 div.sk-toggleable__content {max-height: 0;max-width: 0;overflow: hidden;text-align: left;background-color: #f0f8ff;}#sk-container-id-2 div.sk-toggleable__content pre {margin: 0.2em;color: black;border-radius: 0.25em;background-color: #f0f8ff;}#sk-container-id-2 input.sk-toggleable__control:checked~div.sk-toggleable__content {max-height: 200px;max-width: 100%;overflow: auto;}#sk-container-id-2 input.sk-toggleable__control:checked~label.sk-toggleable__label-arrow:before {content: \"▾\";}#sk-container-id-2 div.sk-estimator input.sk-toggleable__control:checked~label.sk-toggleable__label {background-color: #d4ebff;}#sk-container-id-2 div.sk-label input.sk-toggleable__control:checked~label.sk-toggleable__label {background-color: #d4ebff;}#sk-container-id-2 input.sk-hidden--visually {border: 0;clip: rect(1px 1px 1px 1px);clip: rect(1px, 1px, 1px, 1px);height: 1px;margin: -1px;overflow: hidden;padding: 0;position: absolute;width: 1px;}#sk-container-id-2 div.sk-estimator {font-family: monospace;background-color: #f0f8ff;border: 1px dotted black;border-radius: 0.25em;box-sizing: border-box;margin-bottom: 0.5em;}#sk-container-id-2 div.sk-estimator:hover {background-color: #d4ebff;}#sk-container-id-2 div.sk-parallel-item::after {content: \"\";width: 100%;border-bottom: 1px solid gray;flex-grow: 1;}#sk-container-id-2 div.sk-label:hover label.sk-toggleable__label {background-color: #d4ebff;}#sk-container-id-2 div.sk-serial::before {content: \"\";position: absolute;border-left: 1px solid gray;box-sizing: border-box;top: 0;bottom: 0;left: 50%;z-index: 0;}#sk-container-id-2 div.sk-serial {display: flex;flex-direction: column;align-items: center;background-color: white;padding-right: 0.2em;padding-left: 0.2em;position: relative;}#sk-container-id-2 div.sk-item {position: relative;z-index: 1;}#sk-container-id-2 div.sk-parallel {display: flex;align-items: stretch;justify-content: center;background-color: white;position: relative;}#sk-container-id-2 div.sk-item::before, #sk-container-id-2 div.sk-parallel-item::before {content: \"\";position: absolute;border-left: 1px solid gray;box-sizing: border-box;top: 0;bottom: 0;left: 50%;z-index: -1;}#sk-container-id-2 div.sk-parallel-item {display: flex;flex-direction: column;z-index: 1;position: relative;background-color: white;}#sk-container-id-2 div.sk-parallel-item:first-child::after {align-self: flex-end;width: 50%;}#sk-container-id-2 div.sk-parallel-item:last-child::after {align-self: flex-start;width: 50%;}#sk-container-id-2 div.sk-parallel-item:only-child::after {width: 0;}#sk-container-id-2 div.sk-dashed-wrapped {border: 1px dashed gray;margin: 0 0.4em 0.5em 0.4em;box-sizing: border-box;padding-bottom: 0.4em;background-color: white;}#sk-container-id-2 div.sk-label label {font-family: monospace;font-weight: bold;display: inline-block;line-height: 1.2em;}#sk-container-id-2 div.sk-label-container {text-align: center;}#sk-container-id-2 div.sk-container {/* jupyter's `normalize.less` sets `[hidden] { display: none; }` but bootstrap.min.css set `[hidden] { display: none !important; }` so we also need the `!important` here to be able to override the default hidden behavior on the sphinx rendered scikit-learn.org. See: https://github.com/scikit-learn/scikit-learn/issues/21755 */display: inline-block !important;position: relative;}#sk-container-id-2 div.sk-text-repr-fallback {display: none;}</style><div id=\"sk-container-id-2\" class=\"sk-top-container\"><div class=\"sk-text-repr-fallback\"><pre>SVR(kernel=&#x27;linear&#x27;)</pre><b>In a Jupyter environment, please rerun this cell to show the HTML representation or trust the notebook. <br />On GitHub, the HTML representation is unable to render, please try loading this page with nbviewer.org.</b></div><div class=\"sk-container\" hidden><div class=\"sk-item\"><div class=\"sk-estimator sk-toggleable\"><input class=\"sk-toggleable__control sk-hidden--visually\" id=\"sk-estimator-id-2\" type=\"checkbox\" checked><label for=\"sk-estimator-id-2\" class=\"sk-toggleable__label sk-toggleable__label-arrow\">SVR</label><div class=\"sk-toggleable__content\"><pre>SVR(kernel=&#x27;linear&#x27;)</pre></div></div></div></div></div>"
      ],
      "text/plain": [
       "SVR(kernel='linear')"
      ]
     },
     "execution_count": 15,
     "metadata": {},
     "output_type": "execute_result"
    }
   ],
   "source": [
    "from sklearn.svm import SVR\n",
    "from sklearn.model_selection import train_test_split\n",
    "model = SVR(kernel='linear')\n",
    "from sklearn import model_selection\n",
    "XTrain,XTest,yTrain,yTest=model_selection.train_test_split(X,Y,test_size=2348,random_state=100)\n",
    "model.fit(XTrain, yTrain)"
   ]
  },
  {
   "cell_type": "code",
   "execution_count": 16,
   "id": "6152201b",
   "metadata": {},
   "outputs": [
    {
     "name": "stdout",
     "output_type": "stream",
     "text": [
      "Erreur Quadratique Moyenne sur l'ensemble d'entraînement : 463737.7306212077\n",
      "Erreur Quadratique Moyenne sur l'ensemble de test : 418369.56760363595\n"
     ]
    }
   ],
   "source": [
    "from sklearn.metrics import mean_squared_error\n",
    "\n",
    "# Faire des prédictions sur l'ensemble d'entraînement\n",
    "predictions_train = model.predict(XTrain)\n",
    "\n",
    "# Calculer l'erreur quadratique moyenne pour l'ensemble d'entraînement\n",
    "mse_train = mean_squared_error(yTrain, predictions_train)\n",
    "print(f'Erreur Quadratique Moyenne sur l\\'ensemble d\\'entraînement : {mse_train}')\n",
    "\n",
    "# Faire des prédictions sur l'ensemble de test\n",
    "predictions_test = model.predict(XTest)\n",
    "\n",
    "# Calculer l'erreur quadratique moyenne pour l'ensemble de test\n",
    "mse_test = mean_squared_error(yTest, predictions_test)\n",
    "print(f'Erreur Quadratique Moyenne sur l\\'ensemble de test : {mse_test}')"
   ]
  },
  {
   "cell_type": "code",
   "execution_count": 17,
   "id": "c6d9cf6b",
   "metadata": {},
   "outputs": [
    {
     "data": {
      "text/html": [
       "<style>#sk-container-id-3 {color: black;}#sk-container-id-3 pre{padding: 0;}#sk-container-id-3 div.sk-toggleable {background-color: white;}#sk-container-id-3 label.sk-toggleable__label {cursor: pointer;display: block;width: 100%;margin-bottom: 0;padding: 0.3em;box-sizing: border-box;text-align: center;}#sk-container-id-3 label.sk-toggleable__label-arrow:before {content: \"▸\";float: left;margin-right: 0.25em;color: #696969;}#sk-container-id-3 label.sk-toggleable__label-arrow:hover:before {color: black;}#sk-container-id-3 div.sk-estimator:hover label.sk-toggleable__label-arrow:before {color: black;}#sk-container-id-3 div.sk-toggleable__content {max-height: 0;max-width: 0;overflow: hidden;text-align: left;background-color: #f0f8ff;}#sk-container-id-3 div.sk-toggleable__content pre {margin: 0.2em;color: black;border-radius: 0.25em;background-color: #f0f8ff;}#sk-container-id-3 input.sk-toggleable__control:checked~div.sk-toggleable__content {max-height: 200px;max-width: 100%;overflow: auto;}#sk-container-id-3 input.sk-toggleable__control:checked~label.sk-toggleable__label-arrow:before {content: \"▾\";}#sk-container-id-3 div.sk-estimator input.sk-toggleable__control:checked~label.sk-toggleable__label {background-color: #d4ebff;}#sk-container-id-3 div.sk-label input.sk-toggleable__control:checked~label.sk-toggleable__label {background-color: #d4ebff;}#sk-container-id-3 input.sk-hidden--visually {border: 0;clip: rect(1px 1px 1px 1px);clip: rect(1px, 1px, 1px, 1px);height: 1px;margin: -1px;overflow: hidden;padding: 0;position: absolute;width: 1px;}#sk-container-id-3 div.sk-estimator {font-family: monospace;background-color: #f0f8ff;border: 1px dotted black;border-radius: 0.25em;box-sizing: border-box;margin-bottom: 0.5em;}#sk-container-id-3 div.sk-estimator:hover {background-color: #d4ebff;}#sk-container-id-3 div.sk-parallel-item::after {content: \"\";width: 100%;border-bottom: 1px solid gray;flex-grow: 1;}#sk-container-id-3 div.sk-label:hover label.sk-toggleable__label {background-color: #d4ebff;}#sk-container-id-3 div.sk-serial::before {content: \"\";position: absolute;border-left: 1px solid gray;box-sizing: border-box;top: 0;bottom: 0;left: 50%;z-index: 0;}#sk-container-id-3 div.sk-serial {display: flex;flex-direction: column;align-items: center;background-color: white;padding-right: 0.2em;padding-left: 0.2em;position: relative;}#sk-container-id-3 div.sk-item {position: relative;z-index: 1;}#sk-container-id-3 div.sk-parallel {display: flex;align-items: stretch;justify-content: center;background-color: white;position: relative;}#sk-container-id-3 div.sk-item::before, #sk-container-id-3 div.sk-parallel-item::before {content: \"\";position: absolute;border-left: 1px solid gray;box-sizing: border-box;top: 0;bottom: 0;left: 50%;z-index: -1;}#sk-container-id-3 div.sk-parallel-item {display: flex;flex-direction: column;z-index: 1;position: relative;background-color: white;}#sk-container-id-3 div.sk-parallel-item:first-child::after {align-self: flex-end;width: 50%;}#sk-container-id-3 div.sk-parallel-item:last-child::after {align-self: flex-start;width: 50%;}#sk-container-id-3 div.sk-parallel-item:only-child::after {width: 0;}#sk-container-id-3 div.sk-dashed-wrapped {border: 1px dashed gray;margin: 0 0.4em 0.5em 0.4em;box-sizing: border-box;padding-bottom: 0.4em;background-color: white;}#sk-container-id-3 div.sk-label label {font-family: monospace;font-weight: bold;display: inline-block;line-height: 1.2em;}#sk-container-id-3 div.sk-label-container {text-align: center;}#sk-container-id-3 div.sk-container {/* jupyter's `normalize.less` sets `[hidden] { display: none; }` but bootstrap.min.css set `[hidden] { display: none !important; }` so we also need the `!important` here to be able to override the default hidden behavior on the sphinx rendered scikit-learn.org. See: https://github.com/scikit-learn/scikit-learn/issues/21755 */display: inline-block !important;position: relative;}#sk-container-id-3 div.sk-text-repr-fallback {display: none;}</style><div id=\"sk-container-id-3\" class=\"sk-top-container\"><div class=\"sk-text-repr-fallback\"><pre>SVR()</pre><b>In a Jupyter environment, please rerun this cell to show the HTML representation or trust the notebook. <br />On GitHub, the HTML representation is unable to render, please try loading this page with nbviewer.org.</b></div><div class=\"sk-container\" hidden><div class=\"sk-item\"><div class=\"sk-estimator sk-toggleable\"><input class=\"sk-toggleable__control sk-hidden--visually\" id=\"sk-estimator-id-3\" type=\"checkbox\" checked><label for=\"sk-estimator-id-3\" class=\"sk-toggleable__label sk-toggleable__label-arrow\">SVR</label><div class=\"sk-toggleable__content\"><pre>SVR()</pre></div></div></div></div></div>"
      ],
      "text/plain": [
       "SVR()"
      ]
     },
     "execution_count": 17,
     "metadata": {},
     "output_type": "execute_result"
    }
   ],
   "source": [
    "from sklearn.svm import SVR\n",
    "from sklearn.model_selection import train_test_split\n",
    "model = SVR(kernel='rbf')\n",
    "from sklearn import model_selection\n",
    "XTrain,XTest,yTrain,yTest=model_selection.train_test_split(X,Y,test_size=2348,random_state=100)\n",
    "model.fit(XTrain, yTrain)"
   ]
  },
  {
   "cell_type": "code",
   "execution_count": 18,
   "id": "a8185f0c",
   "metadata": {},
   "outputs": [
    {
     "name": "stdout",
     "output_type": "stream",
     "text": [
      "Erreur Quadratique Moyenne sur l'ensemble d'entraînement : 1591747.866612401\n",
      "Erreur Quadratique Moyenne sur l'ensemble de test : 1576243.7553131352\n"
     ]
    }
   ],
   "source": [
    "from sklearn.metrics import mean_squared_error\n",
    "\n",
    "# Faire des prédictions sur l'ensemble d'entraînement\n",
    "predictions_train = model.predict(XTrain)\n",
    "\n",
    "# Calculer l'erreur quadratique moyenne pour l'ensemble d'entraînement\n",
    "mse_train = mean_squared_error(yTrain, predictions_train)\n",
    "print(f'Erreur Quadratique Moyenne sur l\\'ensemble d\\'entraînement : {mse_train}')\n",
    "\n",
    "# Faire des prédictions sur l'ensemble de test\n",
    "predictions_test = model.predict(XTest)\n",
    "\n",
    "# Calculer l'erreur quadratique moyenne pour l'ensemble de test\n",
    "mse_test = mean_squared_error(yTest, predictions_test)\n",
    "print(f'Erreur Quadratique Moyenne sur l\\'ensemble de test : {mse_test}')"
   ]
  },
  {
   "cell_type": "code",
   "execution_count": 22,
   "id": "aa7ddc76",
   "metadata": {},
   "outputs": [
    {
     "name": "stdout",
     "output_type": "stream",
     "text": [
      "Epoch 1/3\n",
      "WARNING:tensorflow:From C:\\Users\\pc\\anaconda3\\TP1\\Lib\\site-packages\\keras\\src\\utils\\tf_utils.py:492: The name tf.ragged.RaggedTensorValue is deprecated. Please use tf.compat.v1.ragged.RaggedTensorValue instead.\n",
      "\n",
      "WARNING:tensorflow:From C:\\Users\\pc\\anaconda3\\TP1\\Lib\\site-packages\\keras\\src\\engine\\base_layer_utils.py:384: The name tf.executing_eagerly_outside_functions is deprecated. Please use tf.compat.v1.executing_eagerly_outside_functions instead.\n",
      "\n",
      "1175/1175 [==============================] - 9s 3ms/step - loss: 904496.5625 - mean_squared_error: 904496.5625\n",
      "Epoch 2/3\n",
      "1175/1175 [==============================] - 2s 2ms/step - loss: 430588.5938 - mean_squared_error: 430588.5938\n",
      "Epoch 3/3\n",
      "1175/1175 [==============================] - 2s 2ms/step - loss: 384073.5625 - mean_squared_error: 384073.5625\n"
     ]
    }
   ],
   "source": [
    "import tensorflow as tf\n",
    "from tensorflow.keras.models import Sequential\n",
    "from tensorflow.keras.layers import Dense\n",
    "from sklearn.metrics import r2_score, mean_absolute_percentage_error\n",
    "from tensorflow.keras.optimizers import Adam\n",
    "\n",
    "# instanciation du modèle\n",
    "model = Sequential()\n",
    "\n",
    "# architecture\n",
    "model.add(Dense(10, input_dim=15, activation='relu'))\n",
    "model.add(Dense(5, activation='relu'))\n",
    "model.add(Dense(1, activation='relu'))\n",
    "\n",
    "# création d'un optimiseur Adam avec un taux d'apprentissage de 0.1\n",
    "opt = Adam(learning_rate=0.1)\n",
    "\n",
    "# compilation - algorithme d'apprentissage\n",
    "model.compile(loss='mean_squared_error', optimizer=opt, metrics=['mean_squared_error'])\n",
    "\n",
    "# apprentissage\n",
    "history = model.fit(XTrainStd, yTrain, epochs=3, batch_size=6)\n"
   ]
  }
 ],
 "metadata": {
  "kernelspec": {
   "display_name": "Python 3 (ipykernel)",
   "language": "python",
   "name": "python3"
  },
  "language_info": {
   "codemirror_mode": {
    "name": "ipython",
    "version": 3
   },
   "file_extension": ".py",
   "mimetype": "text/x-python",
   "name": "python",
   "nbconvert_exporter": "python",
   "pygments_lexer": "ipython3",
   "version": "3.11.4"
  }
 },
 "nbformat": 4,
 "nbformat_minor": 5
}
